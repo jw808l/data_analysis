{
 "cells": [
  {
   "cell_type": "code",
   "execution_count": 1,
   "metadata": {},
   "outputs": [],
   "source": [
    "from pyspark.sql.types import *\n",
    "from pyspark.sql.functions import udf\n",
    "from datetime import datetime\n",
    "from pyspark.sql import functions"
   ]
  },
  {
   "cell_type": "code",
   "execution_count": 2,
   "metadata": {},
   "outputs": [],
   "source": [
    "##读取入库单明细\n",
    "good_details=spark.read.csv(\"file:///Users/lijianwei/Desktop/明细.csv\",header=\"true\",inferSchema=\"true\")\n",
    "##获取需要的字段\n",
    "columns_list=['客户代码','货物状态','交货方式','仓库名字','创建时间','宽CM','长CM','高CM','预报数量','收货数量']\n",
    "good_details=good_details.select(columns_list)"
   ]
  },
  {
   "cell_type": "code",
   "execution_count": 3,
   "metadata": {},
   "outputs": [
    {
     "name": "stdout",
     "output_type": "stream",
     "text": [
      "+--------+--------+--------+--------+--------------+----+-----+----+--------+--------+\n",
      "|客户代码|货物状态|交货方式|仓库名字|      创建时间|宽CM| 长CM|高CM|预报数量|收货数量|\n",
      "+--------+--------+--------+--------+--------------+----+-----+----+--------+--------+\n",
      "|    G666|    在途|海运整柜|美东仓库|2020/4/3 11:43|68.0|102.0|12.0|       1|       0|\n",
      "|    G666|    在途|海运整柜|美东仓库|2020/4/3 11:43|68.0|102.0|12.0|       1|       0|\n",
      "|    G666|    在途|海运整柜|美东仓库|2020/4/3 11:43|68.0|102.0|12.0|       1|       0|\n",
      "|    G666|    在途|海运整柜|美东仓库|2020/4/3 11:43|68.0|102.0|12.0|       1|       0|\n",
      "|    G666|    在途|海运整柜|美东仓库|2020/4/3 11:43|68.0|102.0|12.0|       1|       0|\n",
      "+--------+--------+--------+--------+--------------+----+-----+----+--------+--------+\n",
      "only showing top 5 rows\n",
      "\n"
     ]
    }
   ],
   "source": [
    "good_details.show(5)"
   ]
  },
  {
   "cell_type": "code",
   "execution_count": 4,
   "metadata": {},
   "outputs": [],
   "source": [
    "#在途体积\n",
    "def onway_volume(width,heigh,length,predict_number,get_number):\n",
    "    return width*heigh*length*(predict_number-get_number)/1000000\n",
    "\n",
    "##更改日期格式\n",
    "def changeformat(create_time):\n",
    "    return datetime.date(datetime.strptime(create_time,'%Y/%m/%d %H:%M')).strftime('%Y-%m-%d')"
   ]
  },
  {
   "cell_type": "code",
   "execution_count": 5,
   "metadata": {},
   "outputs": [],
   "source": [
    "##创建udf\n",
    "udf_onway_volume=udf(onway_volume,DoubleType())\n",
    "udf_changeformat=udf(changeformat,StringType())"
   ]
  },
  {
   "cell_type": "code",
   "execution_count": 6,
   "metadata": {},
   "outputs": [],
   "source": [
    "#添加\"在途体积\"，及更改\"创建时间\"格式\n",
    "good_details=good_details.withColumn('在途体积',udf_onway_volume(good_details[\"宽CM\"],good_details[\"长CM\"],good_details[\"高CM\"],good_details[\"预报数量\"],good_details[\"收货数量\"]))\n",
    "good_details=good_details.withColumn('创建时间',udf_changeformat(good_details[\"创建时间\"]))"
   ]
  },
  {
   "cell_type": "code",
   "execution_count": 8,
   "metadata": {},
   "outputs": [],
   "source": [
    "way_time=spark.read.csv('file:///Users/lijianwei/Desktop/way_time.txt',header='true',sep='\\t',inferSchema='true')"
   ]
  },
  {
   "cell_type": "code",
   "execution_count": 9,
   "metadata": {},
   "outputs": [
    {
     "name": "stdout",
     "output_type": "stream",
     "text": [
      "+--------+--------+----+\n",
      "|    仓库|货运方式|时效|\n",
      "+--------+--------+----+\n",
      "|法国仓库|海运散货|  51|\n",
      "|捷克仓库|海运散货|  46|\n",
      "|美东仓库|海运散货|  53|\n",
      "|美南仓库|海运散货|  43|\n",
      "|美西仓库|海运散货|  36|\n",
      "+--------+--------+----+\n",
      "only showing top 5 rows\n",
      "\n"
     ]
    }
   ],
   "source": [
    "way_time.show(5)"
   ]
  },
  {
   "cell_type": "code",
   "execution_count": 10,
   "metadata": {},
   "outputs": [],
   "source": [
    "#将两表进行连接，获取时效\n",
    "cond=[good_details[\"仓库名字\"]==way_time[\"仓库\"],good_details[\"交货方式\"]==way_time[\"货运方式\"]]\n",
    "good_details=good_details.join(way_time,cond,\"left\")"
   ]
  },
  {
   "cell_type": "code",
   "execution_count": 17,
   "metadata": {},
   "outputs": [
    {
     "data": {
      "text/plain": [
       "884011"
      ]
     },
     "execution_count": 17,
     "metadata": {},
     "output_type": "execute_result"
    }
   ],
   "source": [
    "good_details.count()"
   ]
  },
  {
   "cell_type": "code",
   "execution_count": 12,
   "metadata": {},
   "outputs": [],
   "source": [
    "#过滤已收货数据，及无用数据\n",
    "good_details=good_details.where((good_details[\"货物状态\"] !=\"其他\")|(good_details[\"时效\"] !=\"\") )"
   ]
  },
  {
   "cell_type": "code",
   "execution_count": 13,
   "metadata": {},
   "outputs": [],
   "source": [
    "#计算预测到达日期\n",
    "good_details=good_details.withColumn(\"预测到达日期\",functions.expr(\"date_add(`创建时间`,`时效`)\"))"
   ]
  },
  {
   "cell_type": "code",
   "execution_count": 19,
   "metadata": {},
   "outputs": [
    {
     "name": "stdout",
     "output_type": "stream",
     "text": [
      "+--------+--------+--------+--------+----------+----+-----+----+--------+--------+---------+--------+--------+----+------------+\n",
      "|客户代码|货物状态|交货方式|仓库名字|  创建时间|宽CM| 长CM|高CM|预报数量|收货数量| 在途体积|    仓库|货运方式|时效|预测到达日期|\n",
      "+--------+--------+--------+--------+----------+----+-----+----+--------+--------+---------+--------+--------+----+------------+\n",
      "|    G666|    在途|海运整柜|美东仓库|2020-04-03|68.0|102.0|12.0|       1|       0| 0.083232|美东仓库|海运整柜|  51|  2020-05-24|\n",
      "|    G666|    在途|海运整柜|美东仓库|2020-04-03|68.0|102.0|12.0|       1|       0| 0.083232|美东仓库|海运整柜|  51|  2020-05-24|\n",
      "|    G666|    在途|海运整柜|美东仓库|2020-04-03|68.0|102.0|12.0|       1|       0| 0.083232|美东仓库|海运整柜|  51|  2020-05-24|\n",
      "|    G666|    在途|海运整柜|美东仓库|2020-04-03|68.0|102.0|12.0|       1|       0| 0.083232|美东仓库|海运整柜|  51|  2020-05-24|\n",
      "|    G666|    在途|海运整柜|美东仓库|2020-04-03|68.0|102.0|12.0|       1|       0| 0.083232|美东仓库|海运整柜|  51|  2020-05-24|\n",
      "|    G666|    在途|海运整柜|美东仓库|2020-04-03|68.0|102.0|12.0|       1|       0| 0.083232|美东仓库|海运整柜|  51|  2020-05-24|\n",
      "|    G666|    在途|海运整柜|美东仓库|2020-04-03|68.0|102.0|12.0|       1|       0| 0.083232|美东仓库|海运整柜|  51|  2020-05-24|\n",
      "|    G666|    在途|海运整柜|美东仓库|2020-04-03|68.0|102.0|12.0|       1|       0| 0.083232|美东仓库|海运整柜|  51|  2020-05-24|\n",
      "|    G666|    在途|海运整柜|美东仓库|2020-04-03|68.0|102.0|12.0|       1|       0| 0.083232|美东仓库|海运整柜|  51|  2020-05-24|\n",
      "|    G666|    在途|海运整柜|美东仓库|2020-04-03|68.0|102.0|12.0|       1|       0| 0.083232|美东仓库|海运整柜|  51|  2020-05-24|\n",
      "|    G666|    在途|海运整柜|美东仓库|2020-04-03|68.0|102.0|12.0|       1|       0| 0.083232|美东仓库|海运整柜|  51|  2020-05-24|\n",
      "|    G666|    在途|海运整柜|美东仓库|2020-04-03|68.0|102.0|12.0|       1|       0| 0.083232|美东仓库|海运整柜|  51|  2020-05-24|\n",
      "|    G666|    在途|海运整柜|美东仓库|2020-04-03|68.0|102.0|12.0|       1|       0| 0.083232|美东仓库|海运整柜|  51|  2020-05-24|\n",
      "|    G666|    在途|海运整柜|美东仓库|2020-04-03|68.0|102.0|12.0|       1|       0| 0.083232|美东仓库|海运整柜|  51|  2020-05-24|\n",
      "|      GT|    在途|海运整柜|美西仓库|2020-04-03|17.0|111.5|17.0|       1|       0|0.0322235|美西仓库|海运整柜|  34|  2020-05-07|\n",
      "|      GT|    在途|海运整柜|美西仓库|2020-04-03|17.0|111.5|17.0|       1|       0|0.0322235|美西仓库|海运整柜|  34|  2020-05-07|\n",
      "|      GT|    在途|海运整柜|美西仓库|2020-04-03|17.0|111.5|17.0|       1|       0|0.0322235|美西仓库|海运整柜|  34|  2020-05-07|\n",
      "|      GT|    在途|海运整柜|美西仓库|2020-04-03|17.0|111.5|17.0|       1|       0|0.0322235|美西仓库|海运整柜|  34|  2020-05-07|\n",
      "|      GT|    在途|海运整柜|美西仓库|2020-04-03|17.0|111.5|17.0|       1|       0|0.0322235|美西仓库|海运整柜|  34|  2020-05-07|\n",
      "|      GT|    在途|海运整柜|美西仓库|2020-04-03|17.0|111.5|17.0|       1|       0|0.0322235|美西仓库|海运整柜|  34|  2020-05-07|\n",
      "+--------+--------+--------+--------+----------+----+-----+----+--------+--------+---------+--------+--------+----+------------+\n",
      "only showing top 20 rows\n",
      "\n"
     ]
    }
   ],
   "source": [
    "good_details.show()"
   ]
  },
  {
   "cell_type": "code",
   "execution_count": 20,
   "metadata": {},
   "outputs": [],
   "source": [
    "##获取5月到货数据\n",
    "good_details=good_details.where(functions.month(good_details[\"预测到达日期\"])==5)"
   ]
  },
  {
   "cell_type": "code",
   "execution_count": 25,
   "metadata": {},
   "outputs": [],
   "source": [
    "#创建视图\n",
    "good_details.createOrReplaceTempView(\"details\")"
   ]
  },
  {
   "cell_type": "code",
   "execution_count": 30,
   "metadata": {},
   "outputs": [],
   "source": [
    "#选取需要的字段，创建新视图details2\n",
    "spark.sql(\"\"\"select `客户代码`,`仓库名字`,\n",
    "          sum(`在途体积`) as `客户体积` \n",
    "          from details \n",
    "          group by `仓库名字`,`客户代码`\"\"\").createOrReplaceTempView(\"details2\")"
   ]
  },
  {
   "cell_type": "code",
   "execution_count": 44,
   "metadata": {},
   "outputs": [],
   "source": [
    "spark.sql(\"\"\"select `客户代码`,`仓库名字`,`客户体积`,\n",
    "          row_number() over(partition by `仓库名字` order by `客户体积` desc) a ,\n",
    "          sum(`客户体积`) over(distribute by `仓库名字`) as `仓库总体积` \n",
    "          from details2 \"\"\").createOrReplaceTempView(\"details3\")"
   ]
  },
  {
   "cell_type": "code",
   "execution_count": 53,
   "metadata": {},
   "outputs": [],
   "source": [
    "#计算各客户货物占比总仓库货物的百分比\n",
    "spark.sql(\"select `客户代码`,`仓库名字`,`客户体积`,`客户体积`/`仓库总体积` as `百分比`  from details3\").createOrReplaceTempView('details4')"
   ]
  },
  {
   "cell_type": "code",
   "execution_count": 56,
   "metadata": {},
   "outputs": [],
   "source": [
    "#通过窗口函数，计算出客户累加占比\n",
    "data=spark.sql(\"select `客户代码`,`仓库名字`,`客户体积`,`百分比`,sum(`百分比`) over(distribute by `仓库名字` sort by `百分比` desc) as `占比`  from details4\")"
   ]
  },
  {
   "cell_type": "code",
   "execution_count": 57,
   "metadata": {},
   "outputs": [],
   "source": [
    "#获取占比前80%的客户\n",
    "data=data.where(data[\"占比\"]<0.8)"
   ]
  },
  {
   "cell_type": "code",
   "execution_count": 58,
   "metadata": {},
   "outputs": [],
   "source": [
    "#将数据导出\n",
    "data.write.format('csv').save(\"file:///opt/software/data/cangku\")"
   ]
  },
  {
   "cell_type": "code",
   "execution_count": null,
   "metadata": {},
   "outputs": [],
   "source": []
  }
 ],
 "metadata": {
  "kernelspec": {
   "display_name": "Python 3",
   "language": "python",
   "name": "python3"
  },
  "language_info": {
   "codemirror_mode": {
    "name": "ipython",
    "version": 3
   },
   "file_extension": ".py",
   "mimetype": "text/x-python",
   "name": "python",
   "nbconvert_exporter": "python",
   "pygments_lexer": "ipython3",
   "version": "3.7.3"
  }
 },
 "nbformat": 4,
 "nbformat_minor": 2
}
